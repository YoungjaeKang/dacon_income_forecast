{
 "cells": [
  {
   "cell_type": "markdown",
   "source": [
    "###  hackerton rules\n",
    "- AutoML 사용 금지\n",
    "- 외부 데이터 사용 불가\n",
    "- 1일 3회 제출\n",
    "- 평가산식 : RMSE\n",
    "- Public Score: 전체 테스트 데이터 중 30%\n",
    "- Private Score: 전체 테스트 데이터 중 70%"
   ],
   "metadata": {
    "collapsed": false
   }
  },
  {
   "cell_type": "markdown",
   "source": [
    "## Fixed Random Seed"
   ],
   "metadata": {
    "collapsed": false
   }
  },
  {
   "cell_type": "code",
   "execution_count": 1,
   "metadata": {
    "ExecuteTime": {
     "end_time": "2024-03-23T04:37:20.328880Z",
     "start_time": "2024-03-23T04:37:20.327493Z"
    }
   },
   "outputs": [],
   "source": [
    "import numpy as np\n",
    "import random\n",
    "import os\n",
    "\n",
    "def seed_everything(seed):\n",
    "    random.seed(seed)\n",
    "    os.environ['PYTHONHASHSEED'] = str(seed)\n",
    "    np.random.seed(seed)\n",
    "\n",
    "seed_everything(42) # Seed 고정"
   ]
  },
  {
   "cell_type": "markdown",
   "metadata": {},
   "source": [
    "## 데이터 불러오기 및 확인"
   ]
  },
  {
   "cell_type": "code",
   "execution_count": 2,
   "metadata": {
    "ExecuteTime": {
     "end_time": "2024-03-23T04:37:23.203080Z",
     "start_time": "2024-03-23T04:37:23.106703Z"
    }
   },
   "outputs": [
    {
     "data": {
      "text/plain": "            ID  Age Gender                Education_Status Employment_Status  \\\n0  TRAIN_00000   63      M                    Middle (7-8)         Full-Time   \n1  TRAIN_00001   37      M  Associates degree (Vocational)         Full-Time   \n2  TRAIN_00002   58      F                   High graduate         Full-Time   \n\n   Working_Week (Yearly)              Industry_Status  \\\n0                      4              Social Services   \n1                     52                Entertainment   \n2                     52  Manufacturing (Non-durable)   \n\n                  Occupation_Status   Race Hispanic_Origin  ... Citizenship  \\\n0                          Services  White       All other  ...      Native   \n1                          Services  White       All other  ...      Native   \n2  Admin Support (include Clerical)  Black       All other  ...      Native   \n\n  Birth_Country Birth_Country (Father) Birth_Country (Mother)  \\\n0            US                     US                     US   \n1            US                     US                     US   \n2            US                     US                     US   \n\n                                    Tax_Status Gains Losses Dividends  \\\n0                                     Nonfiler     0      0         0   \n1                                       Single     0      0         0   \n2  Married Filling Jointly both under 65 (MFJ)  3411      0         0   \n\n   Income_Status  Income  \n0        Unknown     425  \n1   Under Median       0  \n2   Under Median     860  \n\n[3 rows x 23 columns]",
      "text/html": "<div>\n<style scoped>\n    .dataframe tbody tr th:only-of-type {\n        vertical-align: middle;\n    }\n\n    .dataframe tbody tr th {\n        vertical-align: top;\n    }\n\n    .dataframe thead th {\n        text-align: right;\n    }\n</style>\n<table border=\"1\" class=\"dataframe\">\n  <thead>\n    <tr style=\"text-align: right;\">\n      <th></th>\n      <th>ID</th>\n      <th>Age</th>\n      <th>Gender</th>\n      <th>Education_Status</th>\n      <th>Employment_Status</th>\n      <th>Working_Week (Yearly)</th>\n      <th>Industry_Status</th>\n      <th>Occupation_Status</th>\n      <th>Race</th>\n      <th>Hispanic_Origin</th>\n      <th>...</th>\n      <th>Citizenship</th>\n      <th>Birth_Country</th>\n      <th>Birth_Country (Father)</th>\n      <th>Birth_Country (Mother)</th>\n      <th>Tax_Status</th>\n      <th>Gains</th>\n      <th>Losses</th>\n      <th>Dividends</th>\n      <th>Income_Status</th>\n      <th>Income</th>\n    </tr>\n  </thead>\n  <tbody>\n    <tr>\n      <th>0</th>\n      <td>TRAIN_00000</td>\n      <td>63</td>\n      <td>M</td>\n      <td>Middle (7-8)</td>\n      <td>Full-Time</td>\n      <td>4</td>\n      <td>Social Services</td>\n      <td>Services</td>\n      <td>White</td>\n      <td>All other</td>\n      <td>...</td>\n      <td>Native</td>\n      <td>US</td>\n      <td>US</td>\n      <td>US</td>\n      <td>Nonfiler</td>\n      <td>0</td>\n      <td>0</td>\n      <td>0</td>\n      <td>Unknown</td>\n      <td>425</td>\n    </tr>\n    <tr>\n      <th>1</th>\n      <td>TRAIN_00001</td>\n      <td>37</td>\n      <td>M</td>\n      <td>Associates degree (Vocational)</td>\n      <td>Full-Time</td>\n      <td>52</td>\n      <td>Entertainment</td>\n      <td>Services</td>\n      <td>White</td>\n      <td>All other</td>\n      <td>...</td>\n      <td>Native</td>\n      <td>US</td>\n      <td>US</td>\n      <td>US</td>\n      <td>Single</td>\n      <td>0</td>\n      <td>0</td>\n      <td>0</td>\n      <td>Under Median</td>\n      <td>0</td>\n    </tr>\n    <tr>\n      <th>2</th>\n      <td>TRAIN_00002</td>\n      <td>58</td>\n      <td>F</td>\n      <td>High graduate</td>\n      <td>Full-Time</td>\n      <td>52</td>\n      <td>Manufacturing (Non-durable)</td>\n      <td>Admin Support (include Clerical)</td>\n      <td>Black</td>\n      <td>All other</td>\n      <td>...</td>\n      <td>Native</td>\n      <td>US</td>\n      <td>US</td>\n      <td>US</td>\n      <td>Married Filling Jointly both under 65 (MFJ)</td>\n      <td>3411</td>\n      <td>0</td>\n      <td>0</td>\n      <td>Under Median</td>\n      <td>860</td>\n    </tr>\n  </tbody>\n</table>\n<p>3 rows × 23 columns</p>\n</div>"
     },
     "metadata": {},
     "output_type": "display_data"
    },
    {
     "data": {
      "text/plain": "          ID  Age Gender  Education_Status         Employment_Status  \\\n0  TEST_0000   79      M       High Junior  Children or Armed Forces   \n1  TEST_0001   47      M  Elementary (5-6)  Children or Armed Forces   \n2  TEST_0002   18      F       High Junior  Children or Armed Forces   \n\n   Working_Week (Yearly)              Industry_Status Occupation_Status  \\\n0                      0  Not in universe or children           Unknown   \n1                      0  Not in universe or children           Unknown   \n2                     52                       Retail          Services   \n\n    Race Hispanic_Origin  ...  Household_Summary Citizenship Birth_Country  \\\n0  White       All other  ...        Householder      Native            US   \n1  White   Other Spanish  ...  Child 18 or older      Native            US   \n2  White       All other  ...  Child 18 or older      Native            US   \n\n  Birth_Country (Father) Birth_Country (Mother) Tax_Status Gains Losses  \\\n0                Unknown                Unknown     Single     0      0   \n1                     US                     US   Nonfiler     0      0   \n2                     US                     US     Single     0      0   \n\n   Dividends  Income_Status  \n0          0   Under Median  \n1          0   Under Median  \n2          0   Under Median  \n\n[3 rows x 22 columns]",
      "text/html": "<div>\n<style scoped>\n    .dataframe tbody tr th:only-of-type {\n        vertical-align: middle;\n    }\n\n    .dataframe tbody tr th {\n        vertical-align: top;\n    }\n\n    .dataframe thead th {\n        text-align: right;\n    }\n</style>\n<table border=\"1\" class=\"dataframe\">\n  <thead>\n    <tr style=\"text-align: right;\">\n      <th></th>\n      <th>ID</th>\n      <th>Age</th>\n      <th>Gender</th>\n      <th>Education_Status</th>\n      <th>Employment_Status</th>\n      <th>Working_Week (Yearly)</th>\n      <th>Industry_Status</th>\n      <th>Occupation_Status</th>\n      <th>Race</th>\n      <th>Hispanic_Origin</th>\n      <th>...</th>\n      <th>Household_Summary</th>\n      <th>Citizenship</th>\n      <th>Birth_Country</th>\n      <th>Birth_Country (Father)</th>\n      <th>Birth_Country (Mother)</th>\n      <th>Tax_Status</th>\n      <th>Gains</th>\n      <th>Losses</th>\n      <th>Dividends</th>\n      <th>Income_Status</th>\n    </tr>\n  </thead>\n  <tbody>\n    <tr>\n      <th>0</th>\n      <td>TEST_0000</td>\n      <td>79</td>\n      <td>M</td>\n      <td>High Junior</td>\n      <td>Children or Armed Forces</td>\n      <td>0</td>\n      <td>Not in universe or children</td>\n      <td>Unknown</td>\n      <td>White</td>\n      <td>All other</td>\n      <td>...</td>\n      <td>Householder</td>\n      <td>Native</td>\n      <td>US</td>\n      <td>Unknown</td>\n      <td>Unknown</td>\n      <td>Single</td>\n      <td>0</td>\n      <td>0</td>\n      <td>0</td>\n      <td>Under Median</td>\n    </tr>\n    <tr>\n      <th>1</th>\n      <td>TEST_0001</td>\n      <td>47</td>\n      <td>M</td>\n      <td>Elementary (5-6)</td>\n      <td>Children or Armed Forces</td>\n      <td>0</td>\n      <td>Not in universe or children</td>\n      <td>Unknown</td>\n      <td>White</td>\n      <td>Other Spanish</td>\n      <td>...</td>\n      <td>Child 18 or older</td>\n      <td>Native</td>\n      <td>US</td>\n      <td>US</td>\n      <td>US</td>\n      <td>Nonfiler</td>\n      <td>0</td>\n      <td>0</td>\n      <td>0</td>\n      <td>Under Median</td>\n    </tr>\n    <tr>\n      <th>2</th>\n      <td>TEST_0002</td>\n      <td>18</td>\n      <td>F</td>\n      <td>High Junior</td>\n      <td>Children or Armed Forces</td>\n      <td>52</td>\n      <td>Retail</td>\n      <td>Services</td>\n      <td>White</td>\n      <td>All other</td>\n      <td>...</td>\n      <td>Child 18 or older</td>\n      <td>Native</td>\n      <td>US</td>\n      <td>US</td>\n      <td>US</td>\n      <td>Single</td>\n      <td>0</td>\n      <td>0</td>\n      <td>0</td>\n      <td>Under Median</td>\n    </tr>\n  </tbody>\n</table>\n<p>3 rows × 22 columns</p>\n</div>"
     },
     "metadata": {},
     "output_type": "display_data"
    }
   ],
   "source": [
    "import pandas as pd\n",
    "\n",
    "train = pd.read_csv('data/train.csv')\n",
    "test = pd.read_csv('data/test.csv')\n",
    "\n",
    "display(train.head(3))\n",
    "display(test.head(3))"
   ]
  },
  {
   "cell_type": "code",
   "execution_count": 3,
   "outputs": [
    {
     "name": "stdout",
     "output_type": "stream",
     "text": [
      "<class 'pandas.core.frame.DataFrame'>\n",
      "RangeIndex: 20000 entries, 0 to 19999\n",
      "Data columns (total 23 columns):\n",
      " #   Column                  Non-Null Count  Dtype \n",
      "---  ------                  --------------  ----- \n",
      " 0   ID                      20000 non-null  object\n",
      " 1   Age                     20000 non-null  int64 \n",
      " 2   Gender                  20000 non-null  object\n",
      " 3   Education_Status        20000 non-null  object\n",
      " 4   Employment_Status       20000 non-null  object\n",
      " 5   Working_Week (Yearly)   20000 non-null  int64 \n",
      " 6   Industry_Status         20000 non-null  object\n",
      " 7   Occupation_Status       20000 non-null  object\n",
      " 8   Race                    20000 non-null  object\n",
      " 9   Hispanic_Origin         20000 non-null  object\n",
      " 10  Martial_Status          20000 non-null  object\n",
      " 11  Household_Status        20000 non-null  object\n",
      " 12  Household_Summary       20000 non-null  object\n",
      " 13  Citizenship             20000 non-null  object\n",
      " 14  Birth_Country           20000 non-null  object\n",
      " 15  Birth_Country (Father)  20000 non-null  object\n",
      " 16  Birth_Country (Mother)  20000 non-null  object\n",
      " 17  Tax_Status              20000 non-null  object\n",
      " 18  Gains                   20000 non-null  int64 \n",
      " 19  Losses                  20000 non-null  int64 \n",
      " 20  Dividends               20000 non-null  int64 \n",
      " 21  Income_Status           20000 non-null  object\n",
      " 22  Income                  20000 non-null  int64 \n",
      "dtypes: int64(6), object(17)\n",
      "memory usage: 3.5+ MB\n"
     ]
    }
   ],
   "source": [
    "train.info()"
   ],
   "metadata": {
    "collapsed": false,
    "ExecuteTime": {
     "end_time": "2024-03-23T04:37:26.031987Z",
     "start_time": "2024-03-23T04:37:25.982138Z"
    }
   }
  },
  {
   "cell_type": "code",
   "execution_count": 3,
   "outputs": [],
   "source": [],
   "metadata": {
    "collapsed": false,
    "ExecuteTime": {
     "end_time": "2024-03-23T04:37:26.419954Z",
     "start_time": "2024-03-23T04:37:26.411371Z"
    }
   }
  },
  {
   "cell_type": "markdown",
   "metadata": {},
   "source": [
    "## 데이터 전처리 1 : 학습 및 추론 데이터 설정"
   ]
  },
  {
   "cell_type": "code",
   "execution_count": 4,
   "metadata": {
    "ExecuteTime": {
     "end_time": "2024-03-23T04:37:29.464743Z",
     "start_time": "2024-03-23T04:37:29.452780Z"
    }
   },
   "outputs": [],
   "source": [
    "train_x = train.drop(columns=['ID', 'Income'])\n",
    "train_y = train['Income']\n",
    "\n",
    "test_x = test.drop(columns=['ID'])"
   ]
  },
  {
   "cell_type": "markdown",
   "metadata": {},
   "source": [
    "## 데이터 전처리 2 : 범주형 변수 수치화"
   ]
  },
  {
   "cell_type": "code",
   "execution_count": 4,
   "metadata": {},
   "outputs": [],
   "source": [
    "from sklearn.preprocessing import LabelEncoder\n",
    "\n",
    "encoding_target = list(train_x.dtypes[train_x.dtypes == \"object\"].index)\n",
    "\n",
    "for i in encoding_target:\n",
    "    le = LabelEncoder()\n",
    "    \n",
    "    # train과 test 데이터셋에서 해당 열의 모든 값을 문자열로 변환\n",
    "    train_x[i] = train_x[i].astype(str)\n",
    "    test_x[i] = test_x[i].astype(str)\n",
    "    \n",
    "    le.fit(train_x[i])\n",
    "    train_x[i] = le.transform(train_x[i])\n",
    "    \n",
    "    # test 데이터에서 나올 수 있는 새로운 카테고리에 대해 le.classes_ 배열에 추가\n",
    "    for case in np.unique(test_x[i]):\n",
    "        if case not in le.classes_: \n",
    "            le.classes_ = np.append(le.classes_, case)\n",
    "    \n",
    "    test_x[i] = le.transform(test_x[i])"
   ]
  },
  {
   "cell_type": "markdown",
   "metadata": {},
   "source": [
    "## 모델 선정 및 학습"
   ]
  },
  {
   "cell_type": "code",
   "execution_count": 5,
   "metadata": {},
   "outputs": [
    {
     "data": {
      "text/plain": [
       "DecisionTreeRegressor()"
      ]
     },
     "execution_count": 5,
     "metadata": {},
     "output_type": "execute_result"
    }
   ],
   "source": [
    "from sklearn.tree import DecisionTreeRegressor\n",
    "\n",
    "model = DecisionTreeRegressor() \n",
    "model.fit(train_x, train_y) "
   ]
  },
  {
   "cell_type": "markdown",
   "metadata": {},
   "source": [
    "## 예측 수행"
   ]
  },
  {
   "cell_type": "code",
   "execution_count": 6,
   "metadata": {},
   "outputs": [],
   "source": [
    "preds = model.predict(test_x)"
   ]
  },
  {
   "cell_type": "markdown",
   "metadata": {},
   "source": [
    "## 제출양식에 예측결과 입력"
   ]
  },
  {
   "cell_type": "code",
   "execution_count": 7,
   "metadata": {},
   "outputs": [
    {
     "data": {
      "text/html": [
       "<div>\n",
       "<style scoped>\n",
       "    .dataframe tbody tr th:only-of-type {\n",
       "        vertical-align: middle;\n",
       "    }\n",
       "\n",
       "    .dataframe tbody tr th {\n",
       "        vertical-align: top;\n",
       "    }\n",
       "\n",
       "    .dataframe thead th {\n",
       "        text-align: right;\n",
       "    }\n",
       "</style>\n",
       "<table border=\"1\" class=\"dataframe\">\n",
       "  <thead>\n",
       "    <tr style=\"text-align: right;\">\n",
       "      <th></th>\n",
       "      <th>ID</th>\n",
       "      <th>Income</th>\n",
       "    </tr>\n",
       "  </thead>\n",
       "  <tbody>\n",
       "    <tr>\n",
       "      <th>0</th>\n",
       "      <td>TEST_0000</td>\n",
       "      <td>0.0</td>\n",
       "    </tr>\n",
       "    <tr>\n",
       "      <th>1</th>\n",
       "      <td>TEST_0001</td>\n",
       "      <td>0.0</td>\n",
       "    </tr>\n",
       "    <tr>\n",
       "      <th>2</th>\n",
       "      <td>TEST_0002</td>\n",
       "      <td>500.0</td>\n",
       "    </tr>\n",
       "    <tr>\n",
       "      <th>3</th>\n",
       "      <td>TEST_0003</td>\n",
       "      <td>0.0</td>\n",
       "    </tr>\n",
       "    <tr>\n",
       "      <th>4</th>\n",
       "      <td>TEST_0004</td>\n",
       "      <td>0.0</td>\n",
       "    </tr>\n",
       "    <tr>\n",
       "      <th>...</th>\n",
       "      <td>...</td>\n",
       "      <td>...</td>\n",
       "    </tr>\n",
       "    <tr>\n",
       "      <th>9995</th>\n",
       "      <td>TEST_9995</td>\n",
       "      <td>1300.0</td>\n",
       "    </tr>\n",
       "    <tr>\n",
       "      <th>9996</th>\n",
       "      <td>TEST_9996</td>\n",
       "      <td>700.0</td>\n",
       "    </tr>\n",
       "    <tr>\n",
       "      <th>9997</th>\n",
       "      <td>TEST_9997</td>\n",
       "      <td>425.0</td>\n",
       "    </tr>\n",
       "    <tr>\n",
       "      <th>9998</th>\n",
       "      <td>TEST_9998</td>\n",
       "      <td>0.0</td>\n",
       "    </tr>\n",
       "    <tr>\n",
       "      <th>9999</th>\n",
       "      <td>TEST_9999</td>\n",
       "      <td>575.0</td>\n",
       "    </tr>\n",
       "  </tbody>\n",
       "</table>\n",
       "<p>10000 rows × 2 columns</p>\n",
       "</div>"
      ],
      "text/plain": [
       "             ID  Income\n",
       "0     TEST_0000     0.0\n",
       "1     TEST_0001     0.0\n",
       "2     TEST_0002   500.0\n",
       "3     TEST_0003     0.0\n",
       "4     TEST_0004     0.0\n",
       "...         ...     ...\n",
       "9995  TEST_9995  1300.0\n",
       "9996  TEST_9996   700.0\n",
       "9997  TEST_9997   425.0\n",
       "9998  TEST_9998     0.0\n",
       "9999  TEST_9999   575.0\n",
       "\n",
       "[10000 rows x 2 columns]"
      ]
     },
     "execution_count": 7,
     "metadata": {},
     "output_type": "execute_result"
    }
   ],
   "source": [
    "submission = pd.read_csv('./sample_submission.csv')\n",
    "submission['Income'] = preds\n",
    "submission"
   ]
  },
  {
   "cell_type": "markdown",
   "metadata": {},
   "source": [
    "## 예측결과 저장"
   ]
  },
  {
   "cell_type": "code",
   "execution_count": 8,
   "metadata": {},
   "outputs": [],
   "source": [
    "submission.to_csv('./baseline_submission.csv', index=False)"
   ]
  }
 ],
 "metadata": {
  "kernelspec": {
   "display_name": "soowoong",
   "language": "python",
   "name": "python3"
  },
  "language_info": {
   "codemirror_mode": {
    "name": "ipython",
    "version": 3
   },
   "file_extension": ".py",
   "mimetype": "text/x-python",
   "name": "python",
   "nbconvert_exporter": "python",
   "pygments_lexer": "ipython3",
   "version": "3.8.12"
  }
 },
 "nbformat": 4,
 "nbformat_minor": 2
}
